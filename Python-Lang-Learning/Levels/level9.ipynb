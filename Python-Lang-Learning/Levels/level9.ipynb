{
 "cells": [
  {
   "cell_type": "code",
   "execution_count": 25,
   "metadata": {},
   "outputs": [],
   "source": [
    "\n",
    "class Person:\n",
    "  def __init__(self,name,age):\n",
    "        self.name = name\n",
    "        self.age = age\n",
    "  def print_detls(self):\n",
    "    print(self.name)\n",
    "    print(self.age)\n",
    "\n",
    " # ! the method in classess \n",
    "class Dog:\n",
    "  \n",
    "  no_of_legs = 4 # har yak instance ko milega \n",
    "  def __init__(self,name,age):\n",
    "        self.name = name\n",
    "        self.age = age\n",
    "  def print_detls(self):\n",
    "    print(self.name)\n",
    "    print(self.age)\n",
    "  def bark(self):\n",
    "    print(\"Bawwwhu bawwwhu\")\n",
    "\n"
   ]
  },
  {
   "cell_type": "code",
   "execution_count": 33,
   "metadata": {},
   "outputs": [
    {
     "name": "stdout",
     "output_type": "stream",
     "text": [
      "5\n"
     ]
    },
    {
     "data": {
      "text/plain": [
       "4"
      ]
     },
     "execution_count": 33,
     "metadata": {},
     "output_type": "execute_result"
    }
   ],
   "source": [
    "\n",
    "person1 = Person(\"Nitesh\",21);\n",
    "# print(person1.print_detls())\n",
    "dog1 = Dog(\"Tommy\",2)\n",
    "dog2 = Dog(\"H=JOnny\",4)\n",
    "# dog1.bark()\n",
    "dog1.no_of_legs = 5 # yak ke liye change kiya to dusare ke liye change nahi hota hia \n",
    "print(dog1.no_of_legs)\n",
    "dog2.no_of_legs "
   ]
  },
  {
   "cell_type": "code",
   "execution_count": 34,
   "metadata": {},
   "outputs": [],
   "source": [
    "class Car:\n",
    "    wheels = 4 # class attribute\n",
    "    def __init__(self, maker, model):\n",
    "        self.maker = maker\n",
    "        self.model = model\n",
    "\n",
    "        "
   ]
  },
  {
   "cell_type": "code",
   "execution_count": 39,
   "metadata": {},
   "outputs": [
    {
     "name": "stdout",
     "output_type": "stream",
     "text": [
      "4\n",
      "Honda\n"
     ]
    }
   ],
   "source": [
    "\n",
    "car1 = Car(\"Toyota\", \"Camry\")\n",
    "car2 = Car(\"Honda\", \"Civic\")\n",
    "\n",
    "print(car1.wheels)\n",
    "print(car2.maker)"
   ]
  },
  {
   "cell_type": "code",
   "execution_count": 45,
   "metadata": {},
   "outputs": [],
   "source": [
    "\n",
    "# * inheritance \n",
    "class Vehicle:\n",
    "    def start_engine(self):\n",
    "        print(\"Engine is started\")\n",
    "    def stop_engine(self):  \n",
    "        print(\"Engine is stopped\")    \n",
    "\n"
   ]
  },
  {
   "cell_type": "code",
   "execution_count": 50,
   "metadata": {},
   "outputs": [],
   "source": [
    "class Truck(Vehicle):\n",
    "    def __init__(self,name):\n",
    "        self.name = name\n",
    "    def start_engine(self):\n",
    "        print(\"Truck engine is started\")  # it will override the parent method    \n"
   ]
  },
  {
   "cell_type": "code",
   "execution_count": 54,
   "metadata": {},
   "outputs": [
    {
     "name": "stdout",
     "output_type": "stream",
     "text": [
      "Truck engine is started\n",
      "Engine is stopped\n"
     ]
    }
   ],
   "source": [
    "t1  = Truck(\"Truck2323\")\n",
    "t1.start_engine() # parent ka propety can use here \n",
    "t1.stop_engine()"
   ]
  },
  {
   "cell_type": "code",
   "execution_count": 55,
   "metadata": {},
   "outputs": [],
   "source": [
    "\n",
    "# ! private varibles self.__privatevariablename \n",
    "# that means we can use it only in this class  , not outside the class nor with class instances also \n",
    "\n",
    "class BankAccount:\n",
    "  def __init__(self, balance):\n",
    "    self.__balance = balance\n",
    "  def get_balance(self):\n",
    "    return self.__balance\n",
    "  def deposit(self, amount):\n",
    "    self.__balance += amount\n",
    "  def withdraw(self, amount):\n",
    "    if amount > self.__balance:\n",
    "      print(\"Insufficient funds\")\n",
    "    else:\n",
    "      self.__balance -= amount\n"
   ]
  },
  {
   "cell_type": "code",
   "execution_count": 67,
   "metadata": {},
   "outputs": [
    {
     "name": "stdout",
     "output_type": "stream",
     "text": [
      "1000\n",
      "1500\n",
      "1300\n"
     ]
    }
   ],
   "source": [
    "user1 = BankAccount(1000)\n",
    "print(user1.get_balance())\n",
    "# print(user1.__balance) # this will give error  , the object do not this attribute \n",
    "\n",
    "user1.deposit(500)\n",
    "print(user1.get_balance())\n",
    "\n",
    "user1.withdraw(200)\n",
    "print(user1.get_balance())"
   ]
  },
  {
   "cell_type": "code",
   "execution_count": 68,
   "metadata": {},
   "outputs": [],
   "source": [
    "class Coumputer:\n",
    "    \n",
    "    def __init__(self , brand,model):\n",
    "        self.__brand = brand\n",
    "        self.__model = model\n",
    "\n",
    "    def get_brand(self):\n",
    "        return self.__brand\n",
    "    def get_model(self):\n",
    "        return self.__model\n",
    "    "
   ]
  },
  {
   "cell_type": "code",
   "execution_count": 75,
   "metadata": {},
   "outputs": [
    {
     "name": "stdout",
     "output_type": "stream",
     "text": [
      "Dell\n",
      "XPS\n"
     ]
    }
   ],
   "source": [
    "comp1 = Coumputer(\"Dell\",\"XPS\")\n",
    "print(comp1.get_brand())\n",
    "print(comp1.get_model())\n",
    "# print(comp1.__model) # this will give error as the object do not have this attribute , and it is also private  variable "
   ]
  },
  {
   "cell_type": "code",
   "execution_count": 82,
   "metadata": {},
   "outputs": [],
   "source": [
    "class Book:\n",
    "    def __init__(self, title, author, pages):\n",
    "        self.title = title\n",
    "        self.author = author\n",
    "        self.pages = pages\n",
    "    def __str__(self):\n",
    "        return f\"{self.title} by {self.author}\"    \n"
   ]
  },
  {
   "cell_type": "code",
   "execution_count": 87,
   "metadata": {},
   "outputs": [
    {
     "name": "stdout",
     "output_type": "stream",
     "text": [
      "Python by Nitesh\n"
     ]
    },
    {
     "data": {
      "text/plain": [
       "<__main__.Book at 0x7f6b75aeddc0>"
      ]
     },
     "execution_count": 87,
     "metadata": {},
     "output_type": "execute_result"
    }
   ],
   "source": [
    "book = Book(\"Python\", \"Nitesh\", 200)\n",
    "print(book) # Python by Nitesh\n",
    "book # it is give  <__main__.Book at 0x7f6b741eabd0>"
   ]
  },
  {
   "cell_type": "code",
   "execution_count": 92,
   "metadata": {},
   "outputs": [],
   "source": [
    "class Number:\n",
    "    def __init__(self,value):\n",
    "        self.value = value"
   ]
  },
  {
   "cell_type": "code",
   "execution_count": 116,
   "metadata": {},
   "outputs": [],
   "source": [
    "# num = Number(100)\n",
    "# num +10\n",
    "#  : unsupported operand type(s) for +: 'Number' and 'int'\n",
    "\n",
    "class Number:\n",
    "    def __init__(self,value):\n",
    "        self.value = value\n",
    "\n",
    "    def __add__(self,new_val):\n",
    "        return self.value + new_val\n",
    "    \n",
    "    def __eq__(self, new_val):\n",
    "        return self.value == new_val"
   ]
  },
  {
   "cell_type": "code",
   "execution_count": 111,
   "metadata": {},
   "outputs": [
    {
     "data": {
      "text/plain": [
       "True"
      ]
     },
     "execution_count": 111,
     "metadata": {},
     "output_type": "execute_result"
    }
   ],
   "source": [
    "num = Number(1000)\n",
    "# num == 1000 # F\n",
    "num == num # T\n",
    "# num.value == 1000 # T"
   ]
  },
  {
   "cell_type": "code",
   "execution_count": 118,
   "metadata": {},
   "outputs": [
    {
     "data": {
      "text/plain": [
       "True"
      ]
     },
     "execution_count": 118,
     "metadata": {},
     "output_type": "execute_result"
    }
   ],
   "source": [
    "num = Number(300)\n",
    "num == 300 # gives false because here num is class and 300 is int so after dogin this we will not get error \n",
    " # def __eq__(self, new_val):\n",
    "        # return self.value == new_val\n",
    "num = Number(300)\n",
    "num == 300   # true"
   ]
  },
  {
   "cell_type": "code",
   "execution_count": 120,
   "metadata": {},
   "outputs": [
    {
     "data": {
      "text/plain": [
       "True"
      ]
     },
     "execution_count": 120,
     "metadata": {},
     "output_type": "execute_result"
    }
   ],
   "source": [
    "a = 300 # IT IS THE CLASS AS INTEGER \n",
    "a.__eq__(300)"
   ]
  },
  {
   "cell_type": "code",
   "execution_count": 122,
   "metadata": {},
   "outputs": [],
   "source": [
    "\n",
    "# ? composition and aareaation  , like adding the one class in another as in nested form and we can access the property and the methods of the class in side the other class\n",
    "\n",
    "class Engine:\n",
    "    def start(self):\n",
    "        print(\"Engine Started\")      \n",
    "class Car:\n",
    "    def __init__(self, ):\n",
    "        self.engine = Engine() # Composition "
   ]
  },
  {
   "cell_type": "code",
   "execution_count": 125,
   "metadata": {},
   "outputs": [
    {
     "name": "stdout",
     "output_type": "stream",
     "text": [
      "Engine Started\n"
     ]
    }
   ],
   "source": [
    "car = Car()\n",
    "car.engine.start() # nested like we can access "
   ]
  }
 ],
 "metadata": {
  "kernelspec": {
   "display_name": "Python 3 (ipykernel)",
   "language": "python",
   "name": "python3"
  },
  "language_info": {
   "codemirror_mode": {
    "name": "ipython",
    "version": 3
   },
   "file_extension": ".py",
   "mimetype": "text/x-python",
   "name": "python",
   "nbconvert_exporter": "python",
   "pygments_lexer": "ipython3",
   "version": "3.12.6"
  }
 },
 "nbformat": 4,
 "nbformat_minor": 2
}
